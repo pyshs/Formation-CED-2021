{
 "cells": [
  {
   "cell_type": "markdown",
   "id": "9a19ddd4",
   "metadata": {},
   "source": [
    "# Mon premier notebook\n",
    "\n",
    "Présentation du langage Python"
   ]
  },
  {
   "cell_type": "code",
   "execution_count": 23,
   "id": "f0fdb7aa",
   "metadata": {
    "scrolled": true
   },
   "outputs": [
    {
     "name": "stdout",
     "output_type": "stream",
     "text": [
      "Écrivez une phrasedsqd qsd dsq sqdzqdqdsqdsqdq \n",
      "Proportion de mots de plus de 4 lettres : 20.0 %\n"
     ]
    }
   ],
   "source": [
    "# Définir les variables du script\n",
    "\n",
    "nombre_mots = 0 # Définir une variable\n",
    "phrase     = input(\"Écrivez une phrase\") # Rentrer une phrase\n",
    "liste_mots =    phrase.split(\" \") # Couper la phrase\n",
    "nombre_mots     =     len(liste_mots) # Variable nombre mots de la phrase\n",
    "nombre_min_lettres = 10 # Définir variable\n",
    "\n",
    "if nombre_mots >= 2: # si la liste a des éléments\n",
    "    for i in liste_mots.copy(): # faire une boucle sur les éléments de la liste (copie pour éviter de modifier en cours de boucle)\n",
    "        if len(i) <= nombre_min_lettres: # si le nombre de lettres du mot est inf. au seuil\n",
    "            liste_mots.remove(i) # enlever le mot\n",
    "else:\n",
    "    print(\"La liste est vide\") # cas où la liste est vide\n",
    "\n",
    "proportion = round(100*len(liste_mots)/nombre_mots,2)\n",
    "\n",
    "print(\"Proportion de mots de plus de {} lettres : {} %\".format(nombre_min_lettres,proportion))"
   ]
  },
  {
   "cell_type": "code",
   "execution_count": null,
   "id": "159bcbbf",
   "metadata": {},
   "outputs": [],
   "source": []
  },
  {
   "cell_type": "markdown",
   "id": "a7b47103",
   "metadata": {},
   "source": [
    "## Ma première ligne"
   ]
  },
  {
   "cell_type": "code",
   "execution_count": 17,
   "id": "0bf7e8b3",
   "metadata": {},
   "outputs": [],
   "source": [
    "nombre_mots = 0"
   ]
  },
  {
   "cell_type": "code",
   "execution_count": 13,
   "id": "2be77388",
   "metadata": {
    "scrolled": true
   },
   "outputs": [
    {
     "name": "stdout",
     "output_type": "stream",
     "text": [
      "0\n"
     ]
    }
   ],
   "source": [
    "print(nombre_mots)"
   ]
  },
  {
   "cell_type": "markdown",
   "id": "5eeff81a",
   "metadata": {},
   "source": [
    "La notion de fonction \n",
    "\n",
    "-> parenthèses et arguments pour les exécuter"
   ]
  },
  {
   "cell_type": "code",
   "execution_count": 16,
   "id": "587ff0ec",
   "metadata": {},
   "outputs": [
    {
     "name": "stdout",
     "output_type": "stream",
     "text": [
      "Coucou\n"
     ]
    }
   ],
   "source": [
    "print(\"Coucou\")"
   ]
  },
  {
   "cell_type": "code",
   "execution_count": 14,
   "id": "976a2bb7",
   "metadata": {},
   "outputs": [
    {
     "data": {
      "text/plain": [
       "0"
      ]
     },
     "execution_count": 14,
     "metadata": {},
     "output_type": "execute_result"
    }
   ],
   "source": [
    "nombre_mots"
   ]
  },
  {
   "cell_type": "markdown",
   "id": "7b4a27bb",
   "metadata": {},
   "source": [
    "Le type des objets"
   ]
  },
  {
   "cell_type": "code",
   "execution_count": 20,
   "id": "b828549e",
   "metadata": {},
   "outputs": [
    {
     "data": {
      "text/plain": [
       "float"
      ]
     },
     "execution_count": 20,
     "metadata": {},
     "output_type": "execute_result"
    }
   ],
   "source": [
    "type(nombre_mots)"
   ]
  },
  {
   "cell_type": "code",
   "execution_count": 19,
   "id": "20b617b3",
   "metadata": {},
   "outputs": [],
   "source": [
    "nombre_mots = 0.0"
   ]
  },
  {
   "cell_type": "markdown",
   "id": "ed8d0796",
   "metadata": {},
   "source": [
    "## Ma deuxième ligne"
   ]
  },
  {
   "cell_type": "code",
   "execution_count": 21,
   "id": "85a0bf95",
   "metadata": {},
   "outputs": [
    {
     "name": "stdout",
     "output_type": "stream",
     "text": [
      "Écrivez une phraseTapper une phrase\n"
     ]
    }
   ],
   "source": [
    "phrase = input(\"Écrivez une phrase\")"
   ]
  },
  {
   "cell_type": "code",
   "execution_count": 22,
   "id": "b7a0ebd3",
   "metadata": {},
   "outputs": [
    {
     "name": "stdout",
     "output_type": "stream",
     "text": [
      "Écrivez une phrasedqqdsqddsq\n"
     ]
    },
    {
     "data": {
      "text/plain": [
       "'dqqdsqddsq'"
      ]
     },
     "execution_count": 22,
     "metadata": {},
     "output_type": "execute_result"
    }
   ],
   "source": [
    "input(\"Écrivez une phrase\")"
   ]
  },
  {
   "cell_type": "code",
   "execution_count": 24,
   "id": "d894ef7a",
   "metadata": {},
   "outputs": [
    {
     "data": {
      "text/plain": [
       "'Tapper une phrase'"
      ]
     },
     "execution_count": 24,
     "metadata": {},
     "output_type": "execute_result"
    }
   ],
   "source": [
    "phrase"
   ]
  },
  {
   "cell_type": "code",
   "execution_count": 25,
   "id": "026c6d24",
   "metadata": {},
   "outputs": [
    {
     "data": {
      "text/plain": [
       "str"
      ]
     },
     "execution_count": 25,
     "metadata": {},
     "output_type": "execute_result"
    }
   ],
   "source": [
    "type(phrase)"
   ]
  },
  {
   "cell_type": "code",
   "execution_count": 26,
   "id": "3488a87a",
   "metadata": {},
   "outputs": [
    {
     "name": "stdout",
     "output_type": "stream",
     "text": [
      "test\n"
     ]
    },
    {
     "data": {
      "text/plain": [
       "'test'"
      ]
     },
     "execution_count": 26,
     "metadata": {},
     "output_type": "execute_result"
    }
   ],
   "source": [
    "input()"
   ]
  },
  {
   "cell_type": "code",
   "execution_count": 27,
   "id": "12761e18",
   "metadata": {},
   "outputs": [
    {
     "name": "stdout",
     "output_type": "stream",
     "text": [
      "Écrivez une phrase\n",
      "test\n"
     ]
    },
    {
     "data": {
      "text/plain": [
       "'test'"
      ]
     },
     "execution_count": 27,
     "metadata": {},
     "output_type": "execute_result"
    }
   ],
   "source": [
    "print(\"Écrivez une phrase\")\n",
    "input()"
   ]
  },
  {
   "cell_type": "markdown",
   "id": "8171216a",
   "metadata": {},
   "source": [
    "## Troisième ligne"
   ]
  },
  {
   "cell_type": "code",
   "execution_count": 28,
   "id": "752856b0",
   "metadata": {},
   "outputs": [],
   "source": [
    "liste_mots = phrase.split(\" \")"
   ]
  },
  {
   "cell_type": "markdown",
   "id": "7d6c9eec",
   "metadata": {},
   "source": [
    "Trois étapes : \n",
    "- couper la phrase\n",
    "- récupérer le contenu (une liste)\n",
    "- crérer une variable avec ce contenu"
   ]
  },
  {
   "cell_type": "code",
   "execution_count": 30,
   "id": "00493470",
   "metadata": {},
   "outputs": [
    {
     "data": {
      "text/plain": [
       "'Tapper une phrase'"
      ]
     },
     "execution_count": 30,
     "metadata": {},
     "output_type": "execute_result"
    }
   ],
   "source": [
    "phrase"
   ]
  },
  {
   "cell_type": "code",
   "execution_count": 29,
   "id": "68692a31",
   "metadata": {},
   "outputs": [
    {
     "data": {
      "text/plain": [
       "['Tapper', 'une', 'phrase']"
      ]
     },
     "execution_count": 29,
     "metadata": {},
     "output_type": "execute_result"
    }
   ],
   "source": [
    "phrase.split(\" \")"
   ]
  },
  {
   "cell_type": "code",
   "execution_count": 31,
   "id": "d196cd13",
   "metadata": {},
   "outputs": [
    {
     "data": {
      "text/plain": [
       "'TAPPER UNE PHRASE'"
      ]
     },
     "execution_count": 31,
     "metadata": {},
     "output_type": "execute_result"
    }
   ],
   "source": [
    "phrase.upper()"
   ]
  },
  {
   "cell_type": "code",
   "execution_count": 32,
   "id": "ceee908a",
   "metadata": {},
   "outputs": [
    {
     "data": {
      "text/plain": [
       "['Ta', '', 'er une ', 'hrase']"
      ]
     },
     "execution_count": 32,
     "metadata": {},
     "output_type": "execute_result"
    }
   ],
   "source": [
    "phrase.split(\"p\")"
   ]
  },
  {
   "cell_type": "code",
   "execution_count": 33,
   "id": "8d03a6bc",
   "metadata": {},
   "outputs": [
    {
     "data": {
      "text/plain": [
       "list"
      ]
     },
     "execution_count": 33,
     "metadata": {},
     "output_type": "execute_result"
    }
   ],
   "source": [
    "type(liste_mots)"
   ]
  },
  {
   "cell_type": "markdown",
   "id": "e278d70c",
   "metadata": {},
   "source": [
    "Nombre d'éléments"
   ]
  },
  {
   "cell_type": "code",
   "execution_count": 37,
   "id": "3556002a",
   "metadata": {},
   "outputs": [
    {
     "data": {
      "text/plain": [
       "3"
      ]
     },
     "execution_count": 37,
     "metadata": {},
     "output_type": "execute_result"
    }
   ],
   "source": [
    "len(liste_mots)"
   ]
  },
  {
   "cell_type": "code",
   "execution_count": 38,
   "id": "97a7066a",
   "metadata": {
    "scrolled": true
   },
   "outputs": [
    {
     "data": {
      "text/plain": [
       "['Tapper', 'une', 'phrase']"
      ]
     },
     "execution_count": 38,
     "metadata": {},
     "output_type": "execute_result"
    }
   ],
   "source": [
    "liste_mots"
   ]
  },
  {
   "cell_type": "markdown",
   "id": "7109ca88",
   "metadata": {},
   "source": [
    "Élément d'une liste"
   ]
  },
  {
   "cell_type": "code",
   "execution_count": 39,
   "id": "20ee0eb0",
   "metadata": {},
   "outputs": [
    {
     "data": {
      "text/plain": [
       "'Tapper'"
      ]
     },
     "execution_count": 39,
     "metadata": {},
     "output_type": "execute_result"
    }
   ],
   "source": [
    "liste_mots[0]"
   ]
  },
  {
   "cell_type": "code",
   "execution_count": 41,
   "id": "0ee8e683",
   "metadata": {},
   "outputs": [],
   "source": [
    "test = [\"un\",2,\"tros\",4]"
   ]
  },
  {
   "cell_type": "code",
   "execution_count": 42,
   "id": "e8ad5efd",
   "metadata": {},
   "outputs": [
    {
     "data": {
      "text/plain": [
       "4"
      ]
     },
     "execution_count": 42,
     "metadata": {},
     "output_type": "execute_result"
    }
   ],
   "source": [
    "len(test)"
   ]
  },
  {
   "cell_type": "code",
   "execution_count": 43,
   "id": "36348497",
   "metadata": {},
   "outputs": [
    {
     "data": {
      "text/plain": [
       "'tros'"
      ]
     },
     "execution_count": 43,
     "metadata": {},
     "output_type": "execute_result"
    }
   ],
   "source": [
    "test[2]"
   ]
  },
  {
   "cell_type": "code",
   "execution_count": 44,
   "id": "fcb8e1ba",
   "metadata": {},
   "outputs": [
    {
     "data": {
      "text/plain": [
       "4"
      ]
     },
     "execution_count": 44,
     "metadata": {},
     "output_type": "execute_result"
    }
   ],
   "source": [
    "test[-1]"
   ]
  },
  {
   "cell_type": "code",
   "execution_count": 46,
   "id": "56aea5c0",
   "metadata": {},
   "outputs": [
    {
     "data": {
      "text/plain": [
       "['tros', 4]"
      ]
     },
     "execution_count": 46,
     "metadata": {},
     "output_type": "execute_result"
    }
   ],
   "source": [
    "test[2:4]"
   ]
  },
  {
   "cell_type": "code",
   "execution_count": 48,
   "id": "a9eb32ab",
   "metadata": {},
   "outputs": [
    {
     "ename": "AttributeError",
     "evalue": "'list' object has no attribute 'upper'",
     "output_type": "error",
     "traceback": [
      "\u001b[0;31m---------------------------------------------------------------------------\u001b[0m",
      "\u001b[0;31mAttributeError\u001b[0m                            Traceback (most recent call last)",
      "\u001b[0;32m<ipython-input-48-d518ed3f230b>\u001b[0m in \u001b[0;36m<module>\u001b[0;34m\u001b[0m\n\u001b[0;32m----> 1\u001b[0;31m \u001b[0mphrase\u001b[0m\u001b[0;34m.\u001b[0m\u001b[0msplit\u001b[0m\u001b[0;34m(\u001b[0m\u001b[0;34m\" \"\u001b[0m\u001b[0;34m)\u001b[0m\u001b[0;34m.\u001b[0m\u001b[0mupper\u001b[0m\u001b[0;34m(\u001b[0m\u001b[0;34m)\u001b[0m\u001b[0;34m\u001b[0m\u001b[0;34m\u001b[0m\u001b[0m\n\u001b[0m",
      "\u001b[0;31mAttributeError\u001b[0m: 'list' object has no attribute 'upper'"
     ]
    }
   ],
   "source": [
    "phrase.split(\" \").upper()"
   ]
  },
  {
   "cell_type": "markdown",
   "id": "5416e75b",
   "metadata": {},
   "source": [
    "## Quatrième ligne"
   ]
  },
  {
   "cell_type": "code",
   "execution_count": 50,
   "id": "8a08c8a7",
   "metadata": {},
   "outputs": [],
   "source": [
    "nombre_mots = len(liste_mots)"
   ]
  },
  {
   "cell_type": "code",
   "execution_count": 51,
   "id": "f1ef3d6d",
   "metadata": {},
   "outputs": [],
   "source": [
    "?len"
   ]
  },
  {
   "cell_type": "markdown",
   "id": "a3c9954f",
   "metadata": {},
   "source": [
    "## Cinquième ligne"
   ]
  },
  {
   "cell_type": "code",
   "execution_count": 53,
   "id": "338eca7c",
   "metadata": {},
   "outputs": [],
   "source": [
    "nombre_min_lettres = 4"
   ]
  },
  {
   "cell_type": "markdown",
   "id": "59e01a80",
   "metadata": {},
   "source": [
    "## Les autres types de Python"
   ]
  },
  {
   "cell_type": "markdown",
   "id": "d5cb73fe",
   "metadata": {},
   "source": [
    "Le dictionnaire \n",
    "\n",
    "- ensemble clé:valeur"
   ]
  },
  {
   "cell_type": "code",
   "execution_count": 57,
   "id": "295e7c00",
   "metadata": {},
   "outputs": [],
   "source": [
    "exemple = {\"Python\":\"Super langage de programmation\",\n",
    "           \"R\":\"Très bien aussi\",\n",
    "           \"C\":\"Un peu trop compliqué\"}"
   ]
  },
  {
   "cell_type": "code",
   "execution_count": 58,
   "id": "fcd20029",
   "metadata": {},
   "outputs": [
    {
     "data": {
      "text/plain": [
       "dict_keys(['Python', 'R', 'C'])"
      ]
     },
     "execution_count": 58,
     "metadata": {},
     "output_type": "execute_result"
    }
   ],
   "source": [
    "exemple.keys()"
   ]
  },
  {
   "cell_type": "code",
   "execution_count": 59,
   "id": "205c1b01",
   "metadata": {},
   "outputs": [
    {
     "data": {
      "text/plain": [
       "dict_values(['Super langage de programmation', 'Très bien aussi', 'Un peu trop compliqué'])"
      ]
     },
     "execution_count": 59,
     "metadata": {},
     "output_type": "execute_result"
    }
   ],
   "source": [
    "exemple.values()"
   ]
  },
  {
   "cell_type": "code",
   "execution_count": 55,
   "id": "6b90f1b1",
   "metadata": {},
   "outputs": [
    {
     "data": {
      "text/plain": [
       "dict"
      ]
     },
     "execution_count": 55,
     "metadata": {},
     "output_type": "execute_result"
    }
   ],
   "source": [
    "type(exemple)"
   ]
  },
  {
   "cell_type": "code",
   "execution_count": 56,
   "id": "4c20b869",
   "metadata": {},
   "outputs": [
    {
     "data": {
      "text/plain": [
       "'Super langage de programmation'"
      ]
     },
     "execution_count": 56,
     "metadata": {},
     "output_type": "execute_result"
    }
   ],
   "source": [
    "exemple[\"Python\"]"
   ]
  },
  {
   "cell_type": "markdown",
   "id": "af7a2bdc",
   "metadata": {},
   "source": [
    "Dernier type : booléennes"
   ]
  },
  {
   "cell_type": "code",
   "execution_count": 60,
   "id": "7f576dd4",
   "metadata": {},
   "outputs": [],
   "source": [
    "enonce = True"
   ]
  },
  {
   "cell_type": "code",
   "execution_count": 62,
   "id": "75eddfce",
   "metadata": {},
   "outputs": [
    {
     "data": {
      "text/plain": [
       "False"
      ]
     },
     "execution_count": 62,
     "metadata": {},
     "output_type": "execute_result"
    }
   ],
   "source": [
    "not enonce"
   ]
  },
  {
   "cell_type": "code",
   "execution_count": 63,
   "id": "0270c883",
   "metadata": {},
   "outputs": [
    {
     "data": {
      "text/plain": [
       "True"
      ]
     },
     "execution_count": 63,
     "metadata": {},
     "output_type": "execute_result"
    }
   ],
   "source": [
    "enonce and True"
   ]
  },
  {
   "cell_type": "markdown",
   "id": "5e112797",
   "metadata": {},
   "source": [
    "Dernier type"
   ]
  },
  {
   "cell_type": "code",
   "execution_count": 65,
   "id": "4d94004d",
   "metadata": {},
   "outputs": [],
   "source": [
    "variable = None"
   ]
  },
  {
   "cell_type": "code",
   "execution_count": 66,
   "id": "5a8b4a45",
   "metadata": {},
   "outputs": [
    {
     "data": {
      "text/plain": [
       "NoneType"
      ]
     },
     "execution_count": 66,
     "metadata": {},
     "output_type": "execute_result"
    }
   ],
   "source": [
    "type(variable)"
   ]
  },
  {
   "cell_type": "markdown",
   "id": "2af53b56",
   "metadata": {},
   "source": [
    "## condition\n",
    "\n",
    "\n",
    "```` python\n",
    "if [CONDITION]:\n",
    "    exécuter du code si condition vraie\n",
    "else: (optionnel)\n",
    "    exécuter du code si condition fausse\n",
    "````"
   ]
  },
  {
   "cell_type": "code",
   "execution_count": 67,
   "id": "b3457e4f",
   "metadata": {},
   "outputs": [
    {
     "data": {
      "text/plain": [
       "True"
      ]
     },
     "execution_count": 67,
     "metadata": {},
     "output_type": "execute_result"
    }
   ],
   "source": [
    "nombre_mots > 0"
   ]
  },
  {
   "cell_type": "code",
   "execution_count": 5,
   "id": "d6257e5f",
   "metadata": {},
   "outputs": [
    {
     "name": "stdout",
     "output_type": "stream",
     "text": [
      "Écrivez une phrase\n"
     ]
    }
   ],
   "source": [
    "nombre_mots = 0 # Définir une variable\n",
    "phrase     = input(\"Écrivez une phrase\") # Rentrer une phrase\n",
    "liste_mots =    phrase.split(\" \") # Couper la phrase\n",
    "nombre_mots     =     len(liste_mots) # Variable nombre mots de la phrase\n",
    "nombre_min_lettres = 4 # Définir variable"
   ]
  },
  {
   "cell_type": "code",
   "execution_count": 6,
   "id": "6cdcd6c7",
   "metadata": {},
   "outputs": [
    {
     "data": {
      "text/plain": [
       "['']"
      ]
     },
     "execution_count": 6,
     "metadata": {},
     "output_type": "execute_result"
    }
   ],
   "source": [
    "liste_mots"
   ]
  },
  {
   "cell_type": "markdown",
   "id": "64c3c402",
   "metadata": {},
   "source": [
    "### Les boucles"
   ]
  },
  {
   "cell_type": "code",
   "execution_count": 16,
   "id": "12a9f88c",
   "metadata": {},
   "outputs": [],
   "source": [
    "liste_mots_copie = liste_mots.copy()\n",
    "for i in liste_mots_copie:\n",
    "    if len(i) <= nombre_min_lettres:\n",
    "        liste_mots.remove(i)"
   ]
  },
  {
   "cell_type": "markdown",
   "id": "3332ea20",
   "metadata": {},
   "source": [
    "Exemple de boucle"
   ]
  },
  {
   "cell_type": "code",
   "execution_count": 14,
   "id": "91a3f8c8",
   "metadata": {},
   "outputs": [
    {
     "name": "stdout",
     "output_type": "stream",
     "text": [
      "fin boucle\n",
      "2\n",
      "fin boucle\n",
      "fin boucle\n",
      "4\n",
      "fin boucle\n"
     ]
    }
   ],
   "source": [
    "for i in [\"un\",2,\"R\",4]:\n",
    "    if type(i) == int:\n",
    "        print(i)\n",
    "    print(\"fin boucle\")"
   ]
  },
  {
   "cell_type": "markdown",
   "id": "815be40e",
   "metadata": {},
   "source": [
    "## Avant dernière ligne"
   ]
  },
  {
   "cell_type": "code",
   "execution_count": 24,
   "id": "934d501d",
   "metadata": {},
   "outputs": [],
   "source": [
    "proportion = round(100*len(liste_mots)/nombre_mots,2)"
   ]
  },
  {
   "cell_type": "code",
   "execution_count": 26,
   "id": "57a27eb1",
   "metadata": {},
   "outputs": [
    {
     "data": {
      "text/plain": [
       "20.0"
      ]
     },
     "execution_count": 26,
     "metadata": {},
     "output_type": "execute_result"
    }
   ],
   "source": [
    "100*len(liste_mots)/nombre_mots"
   ]
  },
  {
   "cell_type": "code",
   "execution_count": 25,
   "id": "3e2ecbc5",
   "metadata": {},
   "outputs": [
    {
     "data": {
      "text/plain": [
       "10.32"
      ]
     },
     "execution_count": 25,
     "metadata": {},
     "output_type": "execute_result"
    }
   ],
   "source": [
    "round(10.323323,2)"
   ]
  },
  {
   "cell_type": "markdown",
   "id": "825b6595",
   "metadata": {},
   "source": [
    "## Dernière lignes"
   ]
  },
  {
   "cell_type": "code",
   "execution_count": 27,
   "id": "b7a59c23",
   "metadata": {},
   "outputs": [
    {
     "name": "stdout",
     "output_type": "stream",
     "text": [
      "Proportion de mots de plus de 4 lettres : 20.0 %\n"
     ]
    }
   ],
   "source": [
    "print(\"Proportion de mots de plus de {} lettres : {} %\".format(nombre_min_lettres,proportion))"
   ]
  },
  {
   "cell_type": "markdown",
   "id": "4948bb5e",
   "metadata": {},
   "source": [
    "## Définir une fonction"
   ]
  },
  {
   "cell_type": "code",
   "execution_count": 28,
   "id": "2e490ccd",
   "metadata": {},
   "outputs": [],
   "source": [
    "def ma_nouvelle_fonction(un_nombre):\n",
    "    return un_nombre+10"
   ]
  },
  {
   "cell_type": "code",
   "execution_count": 29,
   "id": "b68020d9",
   "metadata": {},
   "outputs": [
    {
     "data": {
      "text/plain": [
       "<function __main__.ma_nouvelle_fonction(un_nombre)>"
      ]
     },
     "execution_count": 29,
     "metadata": {},
     "output_type": "execute_result"
    }
   ],
   "source": [
    "ma_nouvelle_fonction"
   ]
  },
  {
   "cell_type": "code",
   "execution_count": 30,
   "id": "22b22413",
   "metadata": {},
   "outputs": [
    {
     "data": {
      "text/plain": [
       "110"
      ]
     },
     "execution_count": 30,
     "metadata": {},
     "output_type": "execute_result"
    }
   ],
   "source": [
    "ma_nouvelle_fonction(100)"
   ]
  },
  {
   "cell_type": "code",
   "execution_count": 31,
   "id": "ee54436c",
   "metadata": {},
   "outputs": [],
   "source": [
    "def compter_mots(phrase):    \n",
    "    nombre_mots = 0 # Définir une variable\n",
    "    liste_mots =    phrase.split(\" \") # Couper la phrase\n",
    "    nombre_mots     =     len(liste_mots) # Variable nombre mots de la phrase\n",
    "    nombre_min_lettres = 10 # Définir variable\n",
    "\n",
    "    if nombre_mots >= 2: # si la liste a des éléments\n",
    "        for i in liste_mots.copy(): # faire une boucle sur les éléments de la liste (copie pour éviter de modifier en cours de boucle)\n",
    "            if len(i) <= nombre_min_lettres: # si le nombre de lettres du mot est inf. au seuil\n",
    "                liste_mots.remove(i) # enlever le mot\n",
    "    else:\n",
    "        print(\"La liste est vide\") # cas où la liste est vide\n",
    "\n",
    "    proportion = round(100*len(liste_mots)/nombre_mots,2)\n",
    "\n",
    "    print(\"Proportion de mots de plus de {} lettres : {} %\".format(nombre_min_lettres,proportion))"
   ]
  },
  {
   "cell_type": "code",
   "execution_count": 32,
   "id": "bda14ba0",
   "metadata": {},
   "outputs": [
    {
     "data": {
      "text/plain": [
       "<function __main__.compter_mots(phrase)>"
      ]
     },
     "execution_count": 32,
     "metadata": {},
     "output_type": "execute_result"
    }
   ],
   "source": [
    "compter_mots"
   ]
  },
  {
   "cell_type": "code",
   "execution_count": 33,
   "id": "737072ae",
   "metadata": {},
   "outputs": [
    {
     "name": "stdout",
     "output_type": "stream",
     "text": [
      "Proportion de mots de plus de 10 lettres : 0.0 %\n"
     ]
    }
   ],
   "source": [
    "compter_mots(\"Ceci est une phrae\")"
   ]
  },
  {
   "cell_type": "markdown",
   "id": "8835eed7",
   "metadata": {},
   "source": [
    "Plusieurs variables"
   ]
  },
  {
   "cell_type": "code",
   "execution_count": 35,
   "id": "147195da",
   "metadata": {},
   "outputs": [],
   "source": [
    "def compter_mots2(phrase,nombre_min_lettres=4):    \n",
    "    nombre_mots = 0 # Définir une variable\n",
    "    liste_mots =    phrase.split(\" \") # Couper la phrase\n",
    "    nombre_mots     =     len(liste_mots) # Variable nombre mots de la phrase\n",
    "\n",
    "    if nombre_mots >= 2: # si la liste a des éléments\n",
    "        for i in liste_mots.copy(): # faire une boucle sur les éléments de la liste (copie pour éviter de modifier en cours de boucle)\n",
    "            if len(i) <= nombre_min_lettres: # si le nombre de lettres du mot est inf. au seuil\n",
    "                liste_mots.remove(i) # enlever le mot\n",
    "    else:\n",
    "        print(\"La liste est vide\") # cas où la liste est vide\n",
    "\n",
    "    proportion = round(100*len(liste_mots)/nombre_mots,2)\n",
    "\n",
    "    print(\"Proportion de mots de plus de {} lettres : {} %\".format(nombre_min_lettres,proportion))"
   ]
  },
  {
   "cell_type": "code",
   "execution_count": 38,
   "id": "79de86a4",
   "metadata": {},
   "outputs": [
    {
     "name": "stdout",
     "output_type": "stream",
     "text": [
      "Proportion de mots de plus de 4 lettres : 50.0 %\n"
     ]
    }
   ],
   "source": [
    "compter_mots2(\"Cette phrase est pas très longue\")"
   ]
  },
  {
   "cell_type": "markdown",
   "id": "d5098990",
   "metadata": {},
   "source": [
    "Ouvrir un fichier"
   ]
  },
  {
   "cell_type": "code",
   "execution_count": 39,
   "id": "170b5e77",
   "metadata": {},
   "outputs": [],
   "source": [
    "with open(\"./Premier notebook.ipynb\",\"r\") as  f:\n",
    "    contenu = f.read()"
   ]
  },
  {
   "cell_type": "code",
   "execution_count": 42,
   "id": "1ddbc57e",
   "metadata": {},
   "outputs": [
    {
     "name": "stdout",
     "output_type": "stream",
     "text": [
      "Proportion de mots de plus de 4 lettres : 20.74 %\n"
     ]
    }
   ],
   "source": [
    "compter_mots2(contenu)"
   ]
  }
 ],
 "metadata": {
  "kernelspec": {
   "display_name": "Python 3",
   "language": "python",
   "name": "python3"
  },
  "language_info": {
   "codemirror_mode": {
    "name": "ipython",
    "version": 3
   },
   "file_extension": ".py",
   "mimetype": "text/x-python",
   "name": "python",
   "nbconvert_exporter": "python",
   "pygments_lexer": "ipython3",
   "version": "3.7.11"
  }
 },
 "nbformat": 4,
 "nbformat_minor": 5
}
