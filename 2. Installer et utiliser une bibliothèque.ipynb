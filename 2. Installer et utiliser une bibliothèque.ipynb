{
 "cells": [
  {
   "cell_type": "markdown",
   "id": "d2fa4368",
   "metadata": {},
   "source": [
    "# Utiliser une bibliothèque\n",
    "\n",
    "Récupérer une page wikipédia : https://en.wikipedia.org/wiki/Didier_Raoult"
   ]
  },
  {
   "cell_type": "markdown",
   "id": "890a7970",
   "metadata": {},
   "source": [
    "## Identifier une bibliothèque\n",
    "\n",
    "Requests : https://docs.python-requests.org/"
   ]
  },
  {
   "cell_type": "markdown",
   "id": "919bd896",
   "metadata": {},
   "source": [
    "## Installer une bibliothèque"
   ]
  },
  {
   "cell_type": "code",
   "execution_count": 1,
   "id": "ca9316be",
   "metadata": {},
   "outputs": [
    {
     "name": "stdout",
     "output_type": "stream",
     "text": [
      "Requirement already satisfied: requests in /home/emilien/anaconda3/lib/python3.7/site-packages (2.26.0)\n",
      "Requirement already satisfied: idna<4,>=2.5 in /home/emilien/anaconda3/lib/python3.7/site-packages (from requests) (3.2)\n",
      "Requirement already satisfied: urllib3<1.27,>=1.21.1 in /home/emilien/anaconda3/lib/python3.7/site-packages (from requests) (1.26.7)\n",
      "Requirement already satisfied: charset-normalizer~=2.0.0 in /home/emilien/anaconda3/lib/python3.7/site-packages (from requests) (2.0.4)\n",
      "Requirement already satisfied: certifi>=2017.4.17 in /home/emilien/anaconda3/lib/python3.7/site-packages (from requests) (2021.10.8)\n",
      "Note: you may need to restart the kernel to use updated packages.\n"
     ]
    }
   ],
   "source": [
    "pip install requests"
   ]
  },
  {
   "cell_type": "markdown",
   "id": "9fa9e5a1",
   "metadata": {},
   "source": [
    "## Importer une bibliothèque"
   ]
  },
  {
   "cell_type": "code",
   "execution_count": 3,
   "id": "a63b3dfd",
   "metadata": {},
   "outputs": [],
   "source": [
    "import requests\n",
    "import requests as rq"
   ]
  },
  {
   "cell_type": "markdown",
   "id": "ec08cd80",
   "metadata": {},
   "source": [
    "Tester la bibliothèque"
   ]
  },
  {
   "cell_type": "code",
   "execution_count": 7,
   "id": "ceaf4987",
   "metadata": {},
   "outputs": [],
   "source": [
    "r = requests.get('https://api.github.com/events')"
   ]
  },
  {
   "cell_type": "code",
   "execution_count": 9,
   "id": "c42381d1",
   "metadata": {},
   "outputs": [
    {
     "data": {
      "text/plain": [
       "requests.models.Response"
      ]
     },
     "execution_count": 9,
     "metadata": {},
     "output_type": "execute_result"
    }
   ],
   "source": [
    "type(r)"
   ]
  },
  {
   "cell_type": "code",
   "execution_count": 14,
   "id": "a7585189",
   "metadata": {},
   "outputs": [],
   "source": [
    "contenu = r.json()"
   ]
  },
  {
   "cell_type": "code",
   "execution_count": 16,
   "id": "9d14968f",
   "metadata": {},
   "outputs": [
    {
     "data": {
      "text/plain": [
       "{'id': '19257560037',\n",
       " 'type': 'CreateEvent',\n",
       " 'actor': {'id': 67472505,\n",
       "  'login': 'fawzibazari',\n",
       "  'display_login': 'fawzibazari',\n",
       "  'gravatar_id': '',\n",
       "  'url': 'https://api.github.com/users/fawzibazari',\n",
       "  'avatar_url': 'https://avatars.githubusercontent.com/u/67472505?'},\n",
       " 'repo': {'id': 436617872,\n",
       "  'name': 'fawzibazari/Weather-Api',\n",
       "  'url': 'https://api.github.com/repos/fawzibazari/Weather-Api'},\n",
       " 'payload': {'ref': 'master',\n",
       "  'ref_type': 'branch',\n",
       "  'master_branch': 'master',\n",
       "  'description': None,\n",
       "  'pusher_type': 'user'},\n",
       " 'public': True,\n",
       " 'created_at': '2021-12-09T12:59:49Z'}"
      ]
     },
     "execution_count": 16,
     "metadata": {},
     "output_type": "execute_result"
    }
   ],
   "source": [
    "contenu[0]"
   ]
  },
  {
   "cell_type": "markdown",
   "id": "0262ccb7",
   "metadata": {},
   "source": [
    "Récupérer une page"
   ]
  },
  {
   "cell_type": "code",
   "execution_count": 18,
   "id": "5a93bafb",
   "metadata": {},
   "outputs": [
    {
     "data": {
      "text/plain": [
       "\"je l'apprécie\""
      ]
     },
     "execution_count": 18,
     "metadata": {},
     "output_type": "execute_result"
    }
   ],
   "source": [
    "'je l\\'apprécie'"
   ]
  },
  {
   "cell_type": "code",
   "execution_count": 19,
   "id": "8b3f7204",
   "metadata": {},
   "outputs": [],
   "source": [
    "url = 'https://en.wikipedia.org/wiki/Didier_Raoult'\n",
    "reponse = requests.get(url)\n",
    "#reponse.text"
   ]
  },
  {
   "cell_type": "markdown",
   "id": "c28b3866",
   "metadata": {},
   "source": [
    "Écrire dans un fichier"
   ]
  },
  {
   "cell_type": "code",
   "execution_count": 25,
   "id": "2d9bab04",
   "metadata": {},
   "outputs": [],
   "source": [
    "with open(\"./Data/page_raoult.html\",\"w\",encoding=\"utf-8\") as file: # ouvrir un fichier en mode écriture\n",
    "    file.write(reponse.text)"
   ]
  },
  {
   "cell_type": "code",
   "execution_count": 23,
   "id": "4874bf14",
   "metadata": {},
   "outputs": [
    {
     "name": "stdout",
     "output_type": "stream",
     "text": [
      " \u001b[0m\u001b[01;34mData\u001b[0m/\r\n",
      "'Installer et utiliser une bibliothèque.ipynb'\r\n",
      " page_raoult.html\r\n",
      "'Premier notebook.ipynb'\r\n",
      "'Préparation de la séance.docx'\r\n",
      "\u001b[01;34m'Temps 1 - Présentation + exemple'\u001b[0m/\r\n",
      "\u001b[01;34m'Temps 2 - Python'\u001b[0m/\r\n",
      "\u001b[01;34m'Temps 3 - Bibliothèques et API'\u001b[0m/\r\n",
      "\u001b[01;34m'Temps 4 - Pandas et tableaux'\u001b[0m/\r\n",
      "\u001b[01;34m'Temps 5 - Statistiques et visualisations - Démo'\u001b[0m/\r\n"
     ]
    }
   ],
   "source": [
    "ls ."
   ]
  },
  {
   "cell_type": "code",
   "execution_count": null,
   "id": "6489d2f1",
   "metadata": {},
   "outputs": [],
   "source": []
  }
 ],
 "metadata": {
  "kernelspec": {
   "display_name": "Python 3",
   "language": "python",
   "name": "python3"
  },
  "language_info": {
   "codemirror_mode": {
    "name": "ipython",
    "version": 3
   },
   "file_extension": ".py",
   "mimetype": "text/x-python",
   "name": "python",
   "nbconvert_exporter": "python",
   "pygments_lexer": "ipython3",
   "version": "3.7.11"
  }
 },
 "nbformat": 4,
 "nbformat_minor": 5
}
