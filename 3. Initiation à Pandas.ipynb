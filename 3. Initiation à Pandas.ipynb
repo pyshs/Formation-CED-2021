{
 "cells": [
  {
   "cell_type": "markdown",
   "id": "1f157417",
   "metadata": {},
   "source": [
    "# Débuter avec Pandas"
   ]
  },
  {
   "cell_type": "code",
   "execution_count": 1,
   "id": "c09a3c0d",
   "metadata": {},
   "outputs": [
    {
     "name": "stdout",
     "output_type": "stream",
     "text": [
      "Requirement already satisfied: pandas in /home/emilien/anaconda3/lib/python3.7/site-packages (1.3.3)\n",
      "Requirement already satisfied: numpy>=1.17.3 in /home/emilien/anaconda3/lib/python3.7/site-packages (from pandas) (1.20.3)\n",
      "Requirement already satisfied: python-dateutil>=2.7.3 in /home/emilien/anaconda3/lib/python3.7/site-packages (from pandas) (2.8.2)\n",
      "Requirement already satisfied: pytz>=2017.3 in /home/emilien/anaconda3/lib/python3.7/site-packages (from pandas) (2021.3)\n",
      "Requirement already satisfied: six>=1.5 in /home/emilien/anaconda3/lib/python3.7/site-packages (from python-dateutil>=2.7.3->pandas) (1.16.0)\n",
      "Note: you may need to restart the kernel to use updated packages.\n"
     ]
    }
   ],
   "source": [
    "pip install pandas"
   ]
  },
  {
   "cell_type": "code",
   "execution_count": 2,
   "id": "8a340eed",
   "metadata": {},
   "outputs": [],
   "source": [
    "import pandas as pd"
   ]
  },
  {
   "cell_type": "code",
   "execution_count": 3,
   "id": "d3e3d45b",
   "metadata": {},
   "outputs": [
    {
     "data": {
      "text/plain": [
       "<module 'pandas' from '/home/emilien/anaconda3/lib/python3.7/site-packages/pandas/__init__.py'>"
      ]
     },
     "execution_count": 3,
     "metadata": {},
     "output_type": "execute_result"
    }
   ],
   "source": [
    "pd.D"
   ]
  },
  {
   "cell_type": "markdown",
   "id": "74c383d2",
   "metadata": {},
   "source": [
    "## Créer un DataFrame"
   ]
  },
  {
   "cell_type": "code",
   "execution_count": 14,
   "id": "59c35b77",
   "metadata": {},
   "outputs": [],
   "source": [
    "df = pd.DataFrame(\n",
    "    {\n",
    "    \"Colonne 1\":[\"A\",\"B\",\"C\"],\n",
    "    \"Colonne 2\":[1,2,3],\n",
    "    \"Colonne 3\":[\"jaune\",3,\"rouge\"]\n",
    "    }\n",
    ")"
   ]
  },
  {
   "cell_type": "code",
   "execution_count": 15,
   "id": "22d331d1",
   "metadata": {},
   "outputs": [
    {
     "data": {
      "text/html": [
       "<div>\n",
       "<style scoped>\n",
       "    .dataframe tbody tr th:only-of-type {\n",
       "        vertical-align: middle;\n",
       "    }\n",
       "\n",
       "    .dataframe tbody tr th {\n",
       "        vertical-align: top;\n",
       "    }\n",
       "\n",
       "    .dataframe thead th {\n",
       "        text-align: right;\n",
       "    }\n",
       "</style>\n",
       "<table border=\"1\" class=\"dataframe\">\n",
       "  <thead>\n",
       "    <tr style=\"text-align: right;\">\n",
       "      <th></th>\n",
       "      <th>Colonne 1</th>\n",
       "      <th>Colonne 2</th>\n",
       "      <th>Colonne 3</th>\n",
       "    </tr>\n",
       "  </thead>\n",
       "  <tbody>\n",
       "    <tr>\n",
       "      <th>0</th>\n",
       "      <td>A</td>\n",
       "      <td>1</td>\n",
       "      <td>jaune</td>\n",
       "    </tr>\n",
       "    <tr>\n",
       "      <th>1</th>\n",
       "      <td>B</td>\n",
       "      <td>2</td>\n",
       "      <td>3</td>\n",
       "    </tr>\n",
       "    <tr>\n",
       "      <th>2</th>\n",
       "      <td>C</td>\n",
       "      <td>3</td>\n",
       "      <td>rouge</td>\n",
       "    </tr>\n",
       "  </tbody>\n",
       "</table>\n",
       "</div>"
      ],
      "text/plain": [
       "  Colonne 1  Colonne 2 Colonne 3\n",
       "0         A          1     jaune\n",
       "1         B          2         3\n",
       "2         C          3     rouge"
      ]
     },
     "execution_count": 15,
     "metadata": {},
     "output_type": "execute_result"
    }
   ],
   "source": [
    "df"
   ]
  },
  {
   "cell_type": "code",
   "execution_count": 10,
   "id": "98733889",
   "metadata": {},
   "outputs": [
    {
     "data": {
      "text/plain": [
       "Index(['Colonne 1', 'Colonne 2', 'Colonne 3'], dtype='object')"
      ]
     },
     "execution_count": 10,
     "metadata": {},
     "output_type": "execute_result"
    }
   ],
   "source": [
    "df.columns"
   ]
  },
  {
   "cell_type": "code",
   "execution_count": 11,
   "id": "6229a8cf",
   "metadata": {},
   "outputs": [
    {
     "data": {
      "text/plain": [
       "RangeIndex(start=0, stop=3, step=1)"
      ]
     },
     "execution_count": 11,
     "metadata": {},
     "output_type": "execute_result"
    }
   ],
   "source": [
    "df.index"
   ]
  },
  {
   "cell_type": "code",
   "execution_count": 12,
   "id": "8b069cba",
   "metadata": {},
   "outputs": [
    {
     "data": {
      "text/plain": [
       "(3, 3)"
      ]
     },
     "execution_count": 12,
     "metadata": {},
     "output_type": "execute_result"
    }
   ],
   "source": [
    "df.shape"
   ]
  },
  {
   "cell_type": "code",
   "execution_count": 16,
   "id": "afd52a71",
   "metadata": {},
   "outputs": [
    {
     "data": {
      "text/plain": [
       "Colonne 1    object\n",
       "Colonne 2     int64\n",
       "Colonne 3    object\n",
       "dtype: object"
      ]
     },
     "execution_count": 16,
     "metadata": {},
     "output_type": "execute_result"
    }
   ],
   "source": [
    "df.dtypes"
   ]
  },
  {
   "cell_type": "markdown",
   "id": "7c16a1c6",
   "metadata": {},
   "source": [
    "Sélectionner une colonne"
   ]
  },
  {
   "cell_type": "code",
   "execution_count": 17,
   "id": "2b3af148",
   "metadata": {},
   "outputs": [
    {
     "data": {
      "text/plain": [
       "0    A\n",
       "1    B\n",
       "2    C\n",
       "Name: Colonne 1, dtype: object"
      ]
     },
     "execution_count": 17,
     "metadata": {},
     "output_type": "execute_result"
    }
   ],
   "source": [
    "df[\"Colonne 1\"]"
   ]
  },
  {
   "cell_type": "markdown",
   "id": "0cbc7992",
   "metadata": {},
   "source": [
    "Sélectionner une ligne"
   ]
  },
  {
   "cell_type": "code",
   "execution_count": 18,
   "id": "8d447f80",
   "metadata": {},
   "outputs": [
    {
     "data": {
      "text/plain": [
       "Colonne 1    B\n",
       "Colonne 2    2\n",
       "Colonne 3    3\n",
       "Name: 1, dtype: object"
      ]
     },
     "execution_count": 18,
     "metadata": {},
     "output_type": "execute_result"
    }
   ],
   "source": [
    "df.loc[1]"
   ]
  },
  {
   "cell_type": "markdown",
   "id": "5633e3a3",
   "metadata": {},
   "source": [
    "Sélectionner un élément"
   ]
  },
  {
   "cell_type": "code",
   "execution_count": 21,
   "id": "943d98d8",
   "metadata": {},
   "outputs": [
    {
     "data": {
      "text/html": [
       "<div>\n",
       "<style scoped>\n",
       "    .dataframe tbody tr th:only-of-type {\n",
       "        vertical-align: middle;\n",
       "    }\n",
       "\n",
       "    .dataframe tbody tr th {\n",
       "        vertical-align: top;\n",
       "    }\n",
       "\n",
       "    .dataframe thead th {\n",
       "        text-align: right;\n",
       "    }\n",
       "</style>\n",
       "<table border=\"1\" class=\"dataframe\">\n",
       "  <thead>\n",
       "    <tr style=\"text-align: right;\">\n",
       "      <th></th>\n",
       "      <th>Colonne 1</th>\n",
       "      <th>Colonne 2</th>\n",
       "    </tr>\n",
       "  </thead>\n",
       "  <tbody>\n",
       "    <tr>\n",
       "      <th>1</th>\n",
       "      <td>B</td>\n",
       "      <td>2</td>\n",
       "    </tr>\n",
       "    <tr>\n",
       "      <th>2</th>\n",
       "      <td>C</td>\n",
       "      <td>3</td>\n",
       "    </tr>\n",
       "  </tbody>\n",
       "</table>\n",
       "</div>"
      ],
      "text/plain": [
       "  Colonne 1  Colonne 2\n",
       "1         B          2\n",
       "2         C          3"
      ]
     },
     "execution_count": 21,
     "metadata": {},
     "output_type": "execute_result"
    }
   ],
   "source": [
    "df.loc[1:2,\"Colonne 1\":\"Colonne 2\"]"
   ]
  },
  {
   "cell_type": "markdown",
   "id": "03f00b38",
   "metadata": {},
   "source": [
    "## Utiliser des données réelles"
   ]
  },
  {
   "cell_type": "code",
   "execution_count": 23,
   "id": "46b528b6",
   "metadata": {},
   "outputs": [],
   "source": [
    "data = pd.read_csv(\"https://raw.githubusercontent.com/pyshs/Formation-CED-2021/main/Data/Corpus.csv\")"
   ]
  },
  {
   "cell_type": "code",
   "execution_count": 25,
   "id": "0c6a10ed",
   "metadata": {},
   "outputs": [
    {
     "data": {
      "text/plain": [
       "(176, 6)"
      ]
     },
     "execution_count": 25,
     "metadata": {},
     "output_type": "execute_result"
    }
   ],
   "source": [
    "data.shape"
   ]
  },
  {
   "cell_type": "code",
   "execution_count": 27,
   "id": "5c737b21",
   "metadata": {},
   "outputs": [
    {
     "data": {
      "text/plain": [
       "Index(['Date_reco', 'Date', 'Titre', 'Journal', 'Contenu', 'Auteur'], dtype='object')"
      ]
     },
     "execution_count": 27,
     "metadata": {},
     "output_type": "execute_result"
    }
   ],
   "source": [
    "data.columns"
   ]
  },
  {
   "cell_type": "code",
   "execution_count": 28,
   "id": "51b7d56d",
   "metadata": {},
   "outputs": [
    {
     "data": {
      "text/plain": [
       "RangeIndex(start=0, stop=176, step=1)"
      ]
     },
     "execution_count": 28,
     "metadata": {},
     "output_type": "execute_result"
    }
   ],
   "source": [
    "data.index"
   ]
  },
  {
   "cell_type": "code",
   "execution_count": 37,
   "id": "cb7f12fc",
   "metadata": {},
   "outputs": [
    {
     "data": {
      "text/html": [
       "<div>\n",
       "<style scoped>\n",
       "    .dataframe tbody tr th:only-of-type {\n",
       "        vertical-align: middle;\n",
       "    }\n",
       "\n",
       "    .dataframe tbody tr th {\n",
       "        vertical-align: top;\n",
       "    }\n",
       "\n",
       "    .dataframe thead th {\n",
       "        text-align: right;\n",
       "    }\n",
       "</style>\n",
       "<table border=\"1\" class=\"dataframe\">\n",
       "  <thead>\n",
       "    <tr style=\"text-align: right;\">\n",
       "      <th></th>\n",
       "      <th>Date_reco</th>\n",
       "      <th>Date</th>\n",
       "      <th>Titre</th>\n",
       "      <th>Journal</th>\n",
       "      <th>Contenu</th>\n",
       "      <th>Auteur</th>\n",
       "    </tr>\n",
       "  </thead>\n",
       "  <tbody>\n",
       "    <tr>\n",
       "      <th>0</th>\n",
       "      <td>2021-12-04</td>\n",
       "      <td>_Société,  samedi 4 décembre 2021 493 mots, p...</td>\n",
       "      <td>CHLOROQUINE|Didier Raoult reçoit un blâme L'i...</td>\n",
       "      <td>Aujourd'hui en France  Edition Principale</td>\n",
       "      <td>Séverine Cazes et Marie-Christine Tabet   C'...</td>\n",
       "      <td>NaN</td>\n",
       "    </tr>\n",
       "    <tr>\n",
       "      <th>1</th>\n",
       "      <td>2021-11-20</td>\n",
       "      <td>_Société,  samedi 20 novembre 2021 85 mots, p...</td>\n",
       "      <td>CHLOROQUINE Une enquête interne a été demandée</td>\n",
       "      <td>Aujourd'hui en France  Edition Principale</td>\n",
       "      <td>CHLOROQUINE   Une enquête interne a été dema...</td>\n",
       "      <td>NaN</td>\n",
       "    </tr>\n",
       "    <tr>\n",
       "      <th>2</th>\n",
       "      <td>2021-07-06</td>\n",
       "      <td>Le Figaro,  mardi 6 juillet 2021 1674 mots, p...</td>\n",
       "      <td>Bolsonaro sur le banc des accusés après les r...</td>\n",
       "      <td>Le Figaro, no. 23910</td>\n",
       "      <td>Le 16 janvier, pour sauver son père de l'asp...</td>\n",
       "      <td>Jeantet, Diane</td>\n",
       "    </tr>\n",
       "    <tr>\n",
       "      <th>3</th>\n",
       "      <td>2020-12-08</td>\n",
       "      <td>Analyses,  mardi 8 décembre 2020 1140 mots, p...</td>\n",
       "      <td>Gilbert Deray Bilan d'étape du virus, un an a...</td>\n",
       "      <td>Le Monde</td>\n",
       "      <td>Le Covid-19 a révélé l'extraordinaire potent...</td>\n",
       "      <td>Gilbert Deray</td>\n",
       "    </tr>\n",
       "    <tr>\n",
       "      <th>4</th>\n",
       "      <td>2021-03-12</td>\n",
       "      <td>vendredi 12 mars 2021 2671 mots, p. 12,13,14</td>\n",
       "      <td>A Marseille, la facture n'est pas passée</td>\n",
       "      <td>Libération</td>\n",
       "      <td>Le soir du 15 mars 2020, Claude (1), 44 ans,...</td>\n",
       "      <td>Par CHRISTIAN LEHMANN</td>\n",
       "    </tr>\n",
       "    <tr>\n",
       "      <th>...</th>\n",
       "      <td>...</td>\n",
       "      <td>...</td>\n",
       "      <td>...</td>\n",
       "      <td>...</td>\n",
       "      <td>...</td>\n",
       "      <td>...</td>\n",
       "    </tr>\n",
       "    <tr>\n",
       "      <th>171</th>\n",
       "      <td>2021-02-15</td>\n",
       "      <td>_Politique,  lundi 15 février 2021 639 mots, ...</td>\n",
       "      <td>Le médecin-chef de la macronie Nommé au gouve...</td>\n",
       "      <td>Aujourd'hui en France  Edition Principale</td>\n",
       "      <td>Par Marcelo Wesfreid   C'était il y a pile u...</td>\n",
       "      <td>NaN</td>\n",
       "    </tr>\n",
       "    <tr>\n",
       "      <th>172</th>\n",
       "      <td>2021-09-20</td>\n",
       "      <td>lundi 20 septembre 2021 1514 mots, p. 14,15</td>\n",
       "      <td>Arnaque, frime et pharmaceutique</td>\n",
       "      <td>Libération</td>\n",
       "      <td>Le malheur des uns fait le bonheur des autre...</td>\n",
       "      <td>Par LAURENT LÉGER</td>\n",
       "    </tr>\n",
       "    <tr>\n",
       "      <th>173</th>\n",
       "      <td>2021-09-06</td>\n",
       "      <td>Économie,  lundi 6 septembre 2021 695 mots, p...</td>\n",
       "      <td>Le site Web « France Soir » au coeur d'une no...</td>\n",
       "      <td>Le Monde</td>\n",
       "      <td>Un procès devra se tenir. La Veuve s'impatie...</td>\n",
       "      <td>Sandrine Cassini</td>\n",
       "    </tr>\n",
       "    <tr>\n",
       "      <th>174</th>\n",
       "      <td>2021-09-29</td>\n",
       "      <td>mercredi 29 septembre 2021 1961 mots, p. 1,8,9</td>\n",
       "      <td>Les antivax ont quelque chose de Tennessee</td>\n",
       "      <td>Libération</td>\n",
       "      <td>pages 8-9   «L   a secrétaire du service m'a...</td>\n",
       "      <td>Par PHILIPPE COSTE Envoyé spécial dans le Tenn...</td>\n",
       "    </tr>\n",
       "    <tr>\n",
       "      <th>175</th>\n",
       "      <td>2021-09-04</td>\n",
       "      <td>France,  samedi 4 septembre 2021 1343 mots, p...</td>\n",
       "      <td>Macron-Raoult : un an et demi de compagnonnag...</td>\n",
       "      <td>Le Monde</td>\n",
       "      <td>Il faut rendre justice à Didier Raoult qui e...</td>\n",
       "      <td>Ariane Chemin</td>\n",
       "    </tr>\n",
       "  </tbody>\n",
       "</table>\n",
       "<p>176 rows × 6 columns</p>\n",
       "</div>"
      ],
      "text/plain": [
       "      Date_reco                                               Date  \\\n",
       "0    2021-12-04   _Société,  samedi 4 décembre 2021 493 mots, p...   \n",
       "1    2021-11-20   _Société,  samedi 20 novembre 2021 85 mots, p...   \n",
       "2    2021-07-06   Le Figaro,  mardi 6 juillet 2021 1674 mots, p...   \n",
       "3    2020-12-08   Analyses,  mardi 8 décembre 2020 1140 mots, p...   \n",
       "4    2021-03-12      vendredi 12 mars 2021 2671 mots, p. 12,13,14    \n",
       "..          ...                                                ...   \n",
       "171  2021-02-15   _Politique,  lundi 15 février 2021 639 mots, ...   \n",
       "172  2021-09-20       lundi 20 septembre 2021 1514 mots, p. 14,15    \n",
       "173  2021-09-06   Économie,  lundi 6 septembre 2021 695 mots, p...   \n",
       "174  2021-09-29    mercredi 29 septembre 2021 1961 mots, p. 1,8,9    \n",
       "175  2021-09-04   France,  samedi 4 septembre 2021 1343 mots, p...   \n",
       "\n",
       "                                                 Titre  \\\n",
       "0     CHLOROQUINE|Didier Raoult reçoit un blâme L'i...   \n",
       "1      CHLOROQUINE Une enquête interne a été demandée    \n",
       "2     Bolsonaro sur le banc des accusés après les r...   \n",
       "3     Gilbert Deray Bilan d'étape du virus, un an a...   \n",
       "4            A Marseille, la facture n'est pas passée    \n",
       "..                                                 ...   \n",
       "171   Le médecin-chef de la macronie Nommé au gouve...   \n",
       "172                  Arnaque, frime et pharmaceutique    \n",
       "173   Le site Web « France Soir » au coeur d'une no...   \n",
       "174        Les antivax ont quelque chose de Tennessee    \n",
       "175   Macron-Raoult : un an et demi de compagnonnag...   \n",
       "\n",
       "                                         Journal  \\\n",
       "0     Aujourd'hui en France  Edition Principale    \n",
       "1     Aujourd'hui en France  Edition Principale    \n",
       "2                        Le Figaro, no. 23910      \n",
       "3                                    Le Monde      \n",
       "4                                  Libération      \n",
       "..                                           ...   \n",
       "171   Aujourd'hui en France  Edition Principale    \n",
       "172                                Libération      \n",
       "173                                  Le Monde      \n",
       "174                                Libération      \n",
       "175                                  Le Monde      \n",
       "\n",
       "                                               Contenu  \\\n",
       "0      Séverine Cazes et Marie-Christine Tabet   C'...   \n",
       "1      CHLOROQUINE   Une enquête interne a été dema...   \n",
       "2      Le 16 janvier, pour sauver son père de l'asp...   \n",
       "3      Le Covid-19 a révélé l'extraordinaire potent...   \n",
       "4      Le soir du 15 mars 2020, Claude (1), 44 ans,...   \n",
       "..                                                 ...   \n",
       "171    Par Marcelo Wesfreid   C'était il y a pile u...   \n",
       "172    Le malheur des uns fait le bonheur des autre...   \n",
       "173    Un procès devra se tenir. La Veuve s'impatie...   \n",
       "174    pages 8-9   «L   a secrétaire du service m'a...   \n",
       "175    Il faut rendre justice à Didier Raoult qui e...   \n",
       "\n",
       "                                                Auteur  \n",
       "0                                                  NaN  \n",
       "1                                                  NaN  \n",
       "2                                       Jeantet, Diane  \n",
       "3                                        Gilbert Deray  \n",
       "4                                Par CHRISTIAN LEHMANN  \n",
       "..                                                 ...  \n",
       "171                                                NaN  \n",
       "172                                  Par LAURENT LÉGER  \n",
       "173                                   Sandrine Cassini  \n",
       "174  Par PHILIPPE COSTE Envoyé spécial dans le Tenn...  \n",
       "175                                      Ariane Chemin  \n",
       "\n",
       "[176 rows x 6 columns]"
      ]
     },
     "execution_count": 37,
     "metadata": {},
     "output_type": "execute_result"
    }
   ],
   "source": [
    "data"
   ]
  },
  {
   "cell_type": "code",
   "execution_count": 41,
   "id": "f977c1fe",
   "metadata": {},
   "outputs": [
    {
     "data": {
      "text/plain": [
       "0      CHLOROQUINE|Didier Raoult reçoit un blâme L'i...\n",
       "8      Didier Raoult blâmé pour sa communication La ...\n",
       "15     L'Ordre des médecins adresse un blâme au prof...\n",
       "17     Poursuivi pour « charlatanisme », Didier Raou...\n",
       "37     «Le professeur Raoult a donné des information...\n",
       "40     Antilles : pourquoi une telle complaisance ? ...\n",
       "Name: Titre, dtype: object"
      ]
     },
     "execution_count": 41,
     "metadata": {},
     "output_type": "execute_result"
    }
   ],
   "source": [
    "filtre = data[\"Date_reco\"] >= \"2021-12-01\"\n",
    "data[filtre][\"Titre\"]\n",
    "# data[data[\"Date_reco\"]  >= \"2021-12-01\" ]"
   ]
  },
  {
   "cell_type": "raw",
   "id": "144ebe49",
   "metadata": {},
   "source": [
    "On veut tous les articles avec \"frime\" dans le titre"
   ]
  },
  {
   "cell_type": "code",
   "execution_count": 43,
   "id": "637a2318",
   "metadata": {},
   "outputs": [
    {
     "data": {
      "text/html": [
       "<div>\n",
       "<style scoped>\n",
       "    .dataframe tbody tr th:only-of-type {\n",
       "        vertical-align: middle;\n",
       "    }\n",
       "\n",
       "    .dataframe tbody tr th {\n",
       "        vertical-align: top;\n",
       "    }\n",
       "\n",
       "    .dataframe thead th {\n",
       "        text-align: right;\n",
       "    }\n",
       "</style>\n",
       "<table border=\"1\" class=\"dataframe\">\n",
       "  <thead>\n",
       "    <tr style=\"text-align: right;\">\n",
       "      <th></th>\n",
       "      <th>Date_reco</th>\n",
       "      <th>Date</th>\n",
       "      <th>Titre</th>\n",
       "      <th>Journal</th>\n",
       "      <th>Contenu</th>\n",
       "      <th>Auteur</th>\n",
       "    </tr>\n",
       "  </thead>\n",
       "  <tbody>\n",
       "    <tr>\n",
       "      <th>172</th>\n",
       "      <td>2021-09-20</td>\n",
       "      <td>lundi 20 septembre 2021 1514 mots, p. 14,15</td>\n",
       "      <td>Arnaque, frime et pharmaceutique</td>\n",
       "      <td>Libération</td>\n",
       "      <td>Le malheur des uns fait le bonheur des autre...</td>\n",
       "      <td>Par LAURENT LÉGER</td>\n",
       "    </tr>\n",
       "  </tbody>\n",
       "</table>\n",
       "</div>"
      ],
      "text/plain": [
       "      Date_reco                                            Date  \\\n",
       "172  2021-09-20    lundi 20 septembre 2021 1514 mots, p. 14,15    \n",
       "\n",
       "                                  Titre         Journal  \\\n",
       "172   Arnaque, frime et pharmaceutique    Libération      \n",
       "\n",
       "                                               Contenu             Auteur  \n",
       "172    Le malheur des uns fait le bonheur des autre...  Par LAURENT LÉGER  "
      ]
     },
     "execution_count": 43,
     "metadata": {},
     "output_type": "execute_result"
    }
   ],
   "source": [
    "filtre = data[\"Titre\"].str.contains(\"frime\")\n",
    "data[filtre]"
   ]
  },
  {
   "cell_type": "code",
   "execution_count": 55,
   "id": "a7c3f4df",
   "metadata": {},
   "outputs": [
    {
     "data": {
      "text/plain": [
       "0      False\n",
       "1      False\n",
       "2      False\n",
       "3       True\n",
       "4      False\n",
       "       ...  \n",
       "171    False\n",
       "172    False\n",
       "173     True\n",
       "174    False\n",
       "175     True\n",
       "Name: Journal, Length: 176, dtype: bool"
      ]
     },
     "execution_count": 55,
     "metadata": {},
     "output_type": "execute_result"
    }
   ],
   "source": [
    "data[\"Journal\"].str.contains(\"Le Monde\")"
   ]
  },
  {
   "cell_type": "code",
   "execution_count": 51,
   "id": "a6577ec2",
   "metadata": {},
   "outputs": [
    {
     "data": {
      "text/plain": [
       "37"
      ]
     },
     "execution_count": 51,
     "metadata": {},
     "output_type": "execute_result"
    }
   ],
   "source": [
    "len(data[data[\"Journal\"].str.contains(\"Libération\")])"
   ]
  },
  {
   "cell_type": "code",
   "execution_count": 66,
   "id": "ec2b6638",
   "metadata": {},
   "outputs": [
    {
     "data": {
      "text/html": [
       "<div>\n",
       "<style scoped>\n",
       "    .dataframe tbody tr th:only-of-type {\n",
       "        vertical-align: middle;\n",
       "    }\n",
       "\n",
       "    .dataframe tbody tr th {\n",
       "        vertical-align: top;\n",
       "    }\n",
       "\n",
       "    .dataframe thead th {\n",
       "        text-align: right;\n",
       "    }\n",
       "</style>\n",
       "<table border=\"1\" class=\"dataframe\">\n",
       "  <thead>\n",
       "    <tr style=\"text-align: right;\">\n",
       "      <th></th>\n",
       "      <th>Date_reco</th>\n",
       "      <th>Date</th>\n",
       "      <th>Titre</th>\n",
       "      <th>Journal</th>\n",
       "      <th>Contenu</th>\n",
       "      <th>Auteur</th>\n",
       "    </tr>\n",
       "  </thead>\n",
       "  <tbody>\n",
       "  </tbody>\n",
       "</table>\n",
       "</div>"
      ],
      "text/plain": [
       "Empty DataFrame\n",
       "Columns: [Date_reco, Date, Titre, Journal, Contenu, Auteur]\n",
       "Index: []"
      ]
     },
     "execution_count": 66,
     "metadata": {},
     "output_type": "execute_result"
    }
   ],
   "source": [
    "filtre1 = data[\"Date_reco\"]>=\"2021-12-01\"\n",
    "filtre2 = data[\"Titre\"].str.contains(\"frime\")\n",
    "data[filtre1 & filtre2]"
   ]
  },
  {
   "cell_type": "markdown",
   "id": "c5eb3ef3",
   "metadata": {},
   "source": [
    "Combien de fois les articles mentionnent raoult dans le corps du texte\n",
    "\n",
    "1. comment compter la fréquence d'un mot dans un texte\n",
    "2. construire une fonction qui le fait pour un texte\n",
    "3. l'appliquer à toute la colonne (apply)"
   ]
  },
  {
   "cell_type": "code",
   "execution_count": 68,
   "id": "5ae0eb0b",
   "metadata": {},
   "outputs": [
    {
     "data": {
      "text/plain": [
       "2"
      ]
     },
     "execution_count": 68,
     "metadata": {},
     "output_type": "execute_result"
    }
   ],
   "source": [
    "\"sdsd qds sqdsq  \".count(\"sq\")"
   ]
  },
  {
   "cell_type": "code",
   "execution_count": 72,
   "id": "609d5654",
   "metadata": {},
   "outputs": [],
   "source": [
    "def compter_raoult(texte):\n",
    "    motcle = \"raoult\"\n",
    "    texte = texte.lower()\n",
    "    return texte.count(motcle)"
   ]
  },
  {
   "cell_type": "code",
   "execution_count": 73,
   "id": "7d88818e",
   "metadata": {},
   "outputs": [
    {
     "data": {
      "text/plain": [
       "1"
      ]
     },
     "execution_count": 73,
     "metadata": {},
     "output_type": "execute_result"
    }
   ],
   "source": [
    "compter_raoult(\"c'est le procès de Didier Raoult\")"
   ]
  },
  {
   "cell_type": "code",
   "execution_count": 78,
   "id": "96a8a568",
   "metadata": {},
   "outputs": [],
   "source": [
    "data[\"vide\"] = None"
   ]
  },
  {
   "cell_type": "code",
   "execution_count": 76,
   "id": "bf681326",
   "metadata": {},
   "outputs": [],
   "source": [
    "data[\"Nb_raoult\"] = data[\"Contenu\"].apply(compter_raoult)"
   ]
  },
  {
   "cell_type": "code",
   "execution_count": 80,
   "id": "dafb61af",
   "metadata": {},
   "outputs": [
    {
     "data": {
      "text/plain": [
       "1.6988636363636365"
      ]
     },
     "execution_count": 80,
     "metadata": {},
     "output_type": "execute_result"
    }
   ],
   "source": [
    "data[\"Nb_raoult\"].mean()"
   ]
  },
  {
   "cell_type": "code",
   "execution_count": 81,
   "id": "009814b9",
   "metadata": {},
   "outputs": [
    {
     "data": {
      "text/plain": [
       "count    176.000000\n",
       "mean       1.698864\n",
       "std        3.551289\n",
       "min        0.000000\n",
       "25%        0.000000\n",
       "50%        0.000000\n",
       "75%        2.000000\n",
       "max       22.000000\n",
       "Name: Nb_raoult, dtype: float64"
      ]
     },
     "execution_count": 81,
     "metadata": {},
     "output_type": "execute_result"
    }
   ],
   "source": [
    "data[\"Nb_raoult\"].describe()"
   ]
  },
  {
   "cell_type": "code",
   "execution_count": 82,
   "id": "6134d8f4",
   "metadata": {
    "scrolled": true
   },
   "outputs": [
    {
     "data": {
      "text/html": [
       "<div>\n",
       "<style scoped>\n",
       "    .dataframe tbody tr th:only-of-type {\n",
       "        vertical-align: middle;\n",
       "    }\n",
       "\n",
       "    .dataframe tbody tr th {\n",
       "        vertical-align: top;\n",
       "    }\n",
       "\n",
       "    .dataframe thead th {\n",
       "        text-align: right;\n",
       "    }\n",
       "</style>\n",
       "<table border=\"1\" class=\"dataframe\">\n",
       "  <thead>\n",
       "    <tr style=\"text-align: right;\">\n",
       "      <th></th>\n",
       "      <th>Date_reco</th>\n",
       "      <th>Date</th>\n",
       "      <th>Titre</th>\n",
       "      <th>Journal</th>\n",
       "      <th>Contenu</th>\n",
       "      <th>Auteur</th>\n",
       "      <th>Nb_raoult</th>\n",
       "      <th>vide</th>\n",
       "    </tr>\n",
       "  </thead>\n",
       "  <tbody>\n",
       "    <tr>\n",
       "      <th>9</th>\n",
       "      <td>2021-08-28</td>\n",
       "      <td>Opinions,  samedi 28 août 2021 3264 mots, p. ...</td>\n",
       "      <td>Didier Raoult, le postmodernisme en étendard</td>\n",
       "      <td>La Tribune (France), no. 7213</td>\n",
       "      <td>Directeur de l'institut hospitalo-universita...</td>\n",
       "      <td>Eric Muraille, Alban de Kerchove d'Exaerde et ...</td>\n",
       "      <td>22</td>\n",
       "      <td>None</td>\n",
       "    </tr>\n",
       "  </tbody>\n",
       "</table>\n",
       "</div>"
      ],
      "text/plain": [
       "    Date_reco                                               Date  \\\n",
       "9  2021-08-28   Opinions,  samedi 28 août 2021 3264 mots, p. ...   \n",
       "\n",
       "                                            Titre  \\\n",
       "9   Didier Raoult, le postmodernisme en étendard    \n",
       "\n",
       "                             Journal  \\\n",
       "9   La Tribune (France), no. 7213      \n",
       "\n",
       "                                             Contenu  \\\n",
       "9    Directeur de l'institut hospitalo-universita...   \n",
       "\n",
       "                                              Auteur  Nb_raoult  vide  \n",
       "9  Eric Muraille, Alban de Kerchove d'Exaerde et ...         22  None  "
      ]
     },
     "execution_count": 82,
     "metadata": {},
     "output_type": "execute_result"
    }
   ],
   "source": [
    "data[data[\"Nb_raoult\"]>20]"
   ]
  },
  {
   "cell_type": "markdown",
   "id": "134932a9",
   "metadata": {},
   "source": [
    "Les journaux : recodez les journaux pour pouvoir compter le nombre d'article par journal"
   ]
  },
  {
   "cell_type": "code",
   "execution_count": null,
   "id": "2f43a070",
   "metadata": {},
   "outputs": [],
   "source": [
    "def recoder_journal(texte):\n",
    "    if \"Libération\" in texte:\n",
    "        return \"Libération\"\n",
    "    if \"Figaro\" in texte:\n",
    "        return \"Figaro\"\n",
    "    "
   ]
  },
  {
   "cell_type": "code",
   "execution_count": 101,
   "id": "cb3396be",
   "metadata": {},
   "outputs": [],
   "source": [
    "def recoder_journal(texte):\n",
    "    liste_recodage = [\"Libération\",\"Figaro\",\"La Croix\",\"Les Echos\",\n",
    "                      \"La Tribune\",\"Aujourd'hui en France\"]\n",
    "    for journal in liste_recodage:\n",
    "        if journal in texte:\n",
    "            return journal\n",
    "    return texte.strip()"
   ]
  },
  {
   "cell_type": "code",
   "execution_count": 102,
   "id": "9a8096cc",
   "metadata": {},
   "outputs": [
    {
     "data": {
      "text/plain": [
       "Libération               37\n",
       "Le Monde                 36\n",
       "Figaro                   35\n",
       "Aujourd'hui en France    33\n",
       "La Croix                 12\n",
       "Les Echos                10\n",
       "l'Humanité                9\n",
       "La Tribune                4\n",
       "Name: Journal-reco, dtype: int64"
      ]
     },
     "execution_count": 102,
     "metadata": {},
     "output_type": "execute_result"
    }
   ],
   "source": [
    "data[\"Journal-reco\"] = data[\"Journal\"].apply(recoder_journal)\n",
    "data[\"Journal-reco\"].value_counts()"
   ]
  },
  {
   "cell_type": "code",
   "execution_count": 108,
   "id": "13e32ded",
   "metadata": {},
   "outputs": [
    {
     "name": "stderr",
     "output_type": "stream",
     "text": [
      "/home/emilien/anaconda3/lib/python3.7/site-packages/ipykernel_launcher.py:1: FutureWarning: As the xlwt package is no longer maintained, the xlwt engine will be removed in a future version of pandas. This is the only engine in pandas that supports writing in the xls format. Install openpyxl and write to an xlsx file instead. You can set the option io.excel.xls.writer to 'xlwt' to silence this warning. While this option is deprecated and will also raise a warning, it can be globally set and the warning suppressed.\n",
      "  \"\"\"Entry point for launching an IPython kernel.\n"
     ]
    }
   ],
   "source": [
    "data.to_excel(\"corpus-recode.xls\")"
   ]
  },
  {
   "cell_type": "code",
   "execution_count": 109,
   "id": "6d204380",
   "metadata": {},
   "outputs": [
    {
     "data": {
      "text/plain": [
       "2.4324324324324325"
      ]
     },
     "execution_count": 109,
     "metadata": {},
     "output_type": "execute_result"
    }
   ],
   "source": [
    "data_liberation = data[data[\"Journal-reco\"] == \"Libération\"]\n",
    "colonne_nb_raoult_liberation = data_liberation[\"Nb_raoult\"]\n",
    "colonne_nb_raoult_liberation.mean()"
   ]
  },
  {
   "cell_type": "code",
   "execution_count": 110,
   "id": "ffce2494",
   "metadata": {},
   "outputs": [
    {
     "data": {
      "text/plain": [
       "2.4324324324324325"
      ]
     },
     "execution_count": 110,
     "metadata": {},
     "output_type": "execute_result"
    }
   ],
   "source": [
    "data[data[\"Journal-reco\"] == \"Libération\"][\"Nb_raoult\"].mean()"
   ]
  },
  {
   "cell_type": "code",
   "execution_count": 106,
   "id": "d9392b48",
   "metadata": {},
   "outputs": [
    {
     "data": {
      "text/plain": [
       "3.0833333333333335"
      ]
     },
     "execution_count": 106,
     "metadata": {},
     "output_type": "execute_result"
    }
   ],
   "source": [
    "data[data[\"Journal-reco\"] == \"Le Monde\"][\"Nb_raoult\"].mean()"
   ]
  },
  {
   "cell_type": "code",
   "execution_count": 107,
   "id": "3e8628fd",
   "metadata": {},
   "outputs": [
    {
     "data": {
      "text/plain": [
       "Journal-reco\n",
       "Aujourd'hui en France    1.303030\n",
       "Figaro                   0.742857\n",
       "La Croix                 0.083333\n",
       "La Tribune               5.500000\n",
       "Le Monde                 3.083333\n",
       "Les Echos                0.100000\n",
       "Libération               2.432432\n",
       "l'Humanité               0.555556\n",
       "Name: Nb_raoult, dtype: float64"
      ]
     },
     "execution_count": 107,
     "metadata": {},
     "output_type": "execute_result"
    }
   ],
   "source": [
    "data.groupby(\"Journal-reco\")[\"Nb_raoult\"].mean()"
   ]
  }
 ],
 "metadata": {
  "kernelspec": {
   "display_name": "Python 3",
   "language": "python",
   "name": "python3"
  },
  "language_info": {
   "codemirror_mode": {
    "name": "ipython",
    "version": 3
   },
   "file_extension": ".py",
   "mimetype": "text/x-python",
   "name": "python",
   "nbconvert_exporter": "python",
   "pygments_lexer": "ipython3",
   "version": "3.7.11"
  }
 },
 "nbformat": 4,
 "nbformat_minor": 5
}
